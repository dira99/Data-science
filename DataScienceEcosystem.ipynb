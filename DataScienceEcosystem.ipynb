{
 "cells": [
  {
   "cell_type": "markdown",
   "id": "8dca6ca1-5b90-4db8-a87d-a67b5d0d3a52",
   "metadata": {},
   "source": [
    "### Data Science Tools and Ecosystem"
   ]
  },
  {
   "cell_type": "markdown",
   "id": "96fc35d2-fdd8-48d2-be95-1fa264e8a68f",
   "metadata": {},
   "source": [
    "In this notebook, Data Science Tools and Ecosystem are summarized. "
   ]
  },
  {
   "cell_type": "markdown",
   "id": "e151e140-a218-42c0-a619-fa5b424e7caa",
   "metadata": {},
   "source": [
    "Some of the popular languages that Data Scientists use are:\n",
    "1. Python\n",
    "2. SQL\n",
    "3. R\n",
    "4. C++\n",
    "5. Java"
   ]
  },
  {
   "cell_type": "markdown",
   "id": "211aa799-7f17-4baf-9acd-d8ec0ec53194",
   "metadata": {},
   "source": [
    "Some of the commonly used libraries used by Data Scientists include:\n",
    "1. Pandas\n",
    "2. Numpy\n",
    "3. TensorFlow\n",
    "4. SciPy\n",
    "5. Keras\n",
    "6. Matplotlib\n",
    "7. PyTorch"
   ]
  },
  {
   "cell_type": "markdown",
   "id": "8a3642fb-42ab-48e1-ac9b-b1cd880a4cb9",
   "metadata": {},
   "source": [
    "|Data Science Tools|\n",
    "|---|\n",
    "|SAS|\n",
    "|Apache Hadoop|\n",
    "|TensorFlow|"
   ]
  },
  {
   "cell_type": "markdown",
   "id": "3af9cba8-2aab-4144-a2ac-057da508488d",
   "metadata": {},
   "source": [
    "### Below given few examples of evaluating arithmetic expressions in Python\n"
   ]
  },
  {
   "cell_type": "code",
   "execution_count": 37,
   "id": "82d37e01-75ea-4397-9859-3b9cf446582f",
   "metadata": {},
   "outputs": [
    {
     "data": {
      "text/plain": [
       "17"
      ]
     },
     "execution_count": 37,
     "metadata": {},
     "output_type": "execute_result"
    }
   ],
   "source": [
    "#This is a simple arithmetic expression to multiply and then add integers.\n",
    "(3*4)+5"
   ]
  },
  {
   "cell_type": "code",
   "execution_count": 43,
   "id": "7606abc1-86d3-45a4-8b9f-b379a3426fba",
   "metadata": {},
   "outputs": [
    {
     "data": {
      "text/plain": [
       "3.3333333333333335"
      ]
     },
     "execution_count": 43,
     "metadata": {},
     "output_type": "execute_result"
    }
   ],
   "source": [
    "#This will convert 200 minutes to hours by diving by 60.\n",
    "200/60"
   ]
  },
  {
   "cell_type": "markdown",
   "id": "090d7201-cebb-4893-9fe3-aba8eb237e1e",
   "metadata": {},
   "source": [
    "__Obejctive__\n",
    "* List popular language for Data science\n",
    "* List popular libraries for Data science\n",
    "* List of well Known Data Science Tools\n",
    "* How to provide comments in cell"
   ]
  },
  {
   "cell_type": "markdown",
   "id": "00135c9c-d8d7-46c5-90b8-a43193a7edd2",
   "metadata": {},
   "source": [
    "## Author\n",
    "Gourav Kumar"
   ]
  }
 ],
 "metadata": {
  "kernelspec": {
   "display_name": "Python 3 (ipykernel)",
   "language": "python",
   "name": "python3"
  },
  "language_info": {
   "codemirror_mode": {
    "name": "ipython",
    "version": 3
   },
   "file_extension": ".py",
   "mimetype": "text/x-python",
   "name": "python",
   "nbconvert_exporter": "python",
   "pygments_lexer": "ipython3",
   "version": "3.12.4"
  }
 },
 "nbformat": 4,
 "nbformat_minor": 5
}
